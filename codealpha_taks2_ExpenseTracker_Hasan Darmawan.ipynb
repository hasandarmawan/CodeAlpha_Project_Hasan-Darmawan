{
 "cells": [
  {
   "cell_type": "code",
   "execution_count": 45,
   "id": "9e6d3fac-69e4-4fd2-892c-c13d3dc6f863",
   "metadata": {},
   "outputs": [],
   "source": [
    "import numpy as np\n",
    "import pandas as pd\n",
    "from datetime import date "
   ]
  },
  {
   "cell_type": "code",
   "execution_count": 46,
   "id": "687c0520-b420-4f5a-a08e-e1d31840992d",
   "metadata": {},
   "outputs": [],
   "source": [
    "GOOD_OR_SERVICES = []\n",
    "PRICES = []\n",
    "DATES = []\n",
    "EXPENSE_TYPES = []"
   ]
  },
  {
   "cell_type": "code",
   "execution_count": 47,
   "id": "cddea422-ca24-48c8-a95f-bb8bb9d740ad",
   "metadata": {},
   "outputs": [],
   "source": [
    "#create a function to add to the list and organize the data \n",
    "def add_expense(good_or_services, prices, dates, expense_types):\n",
    "    GOOD_OR_SERVICES.append(good_or_services)\n",
    "    PRICES.append(prices)\n",
    "    DATES.append(dates)\n",
    "    EXPENSE_TYPES.append(expense_types)"
   ]
  },
  {
   "cell_type": "code",
   "execution_count": 48,
   "id": "678fcb2e-497a-4556-8d6e-2e4f6a82b529",
   "metadata": {},
   "outputs": [
    {
     "name": "stdout",
     "output_type": "stream",
     "text": [
      "welcome to the expense tracker:\n",
      "1. Add Food Expense:\n",
      "2. Add Household Expense:\n",
      "3. Add Transportation Expense:\n",
      "4. Add Self-Care Expense:\n",
      "5. Add Emergency Expense:\n",
      "6. Show and Save The Expense Report:\n",
      "0. Exit\n"
     ]
    },
    {
     "name": "stdin",
     "output_type": "stream",
     "text": [
      "choose an aption:\n",
      " 4\n"
     ]
    },
    {
     "name": "stdout",
     "output_type": "stream",
     "text": [
      "\n",
      "Adding Self-Care\n"
     ]
    },
    {
     "name": "stdin",
     "output_type": "stream",
     "text": [
      "enter the good or service for the expense type SELF-CARE :\n",
      " sunscreen\n",
      "enter the price of the good or service:\n",
      " 5\n"
     ]
    },
    {
     "name": "stdout",
     "output_type": "stream",
     "text": [
      "\n",
      "welcome to the expense tracker:\n",
      "1. Add Food Expense:\n",
      "2. Add Household Expense:\n",
      "3. Add Transportation Expense:\n",
      "4. Add Self-Care Expense:\n",
      "5. Add Emergency Expense:\n",
      "6. Show and Save The Expense Report:\n",
      "0. Exit\n"
     ]
    },
    {
     "name": "stdin",
     "output_type": "stream",
     "text": [
      "choose an aption:\n",
      " 6\n"
     ]
    },
    {
     "name": "stdout",
     "output_type": "stream",
     "text": [
      "\n",
      "  GOOD_OR_SERVICES  PRICES       DATES EXPENSE_TYPES\n",
      "0        sunscreen     5.0  2024-04-17     SELF-CARE\n",
      "\n",
      "welcome to the expense tracker:\n",
      "1. Add Food Expense:\n",
      "2. Add Household Expense:\n",
      "3. Add Transportation Expense:\n",
      "4. Add Self-Care Expense:\n",
      "5. Add Emergency Expense:\n",
      "6. Show and Save The Expense Report:\n",
      "0. Exit\n"
     ]
    },
    {
     "name": "stdin",
     "output_type": "stream",
     "text": [
      "choose an aption:\n",
      " 0\n"
     ]
    },
    {
     "name": "stdout",
     "output_type": "stream",
     "text": [
      "\n",
      "Exiting the program\n"
     ]
    }
   ],
   "source": [
    "option = -1\n",
    "while(option!=0):\n",
    "    \n",
    "    #create the option or choice or input \n",
    "    print(\"welcome to the expense tracker:\")\n",
    "    print(\"1. Add Food Expense:\")\n",
    "    print(\"2. Add Household Expense:\")\n",
    "    print(\"3. Add Transportation Expense:\")\n",
    "    print(\"4. Add Self-Care Expense:\")\n",
    "    print(\"5. Add Emergency Expense:\")\n",
    "    print(\"6. Show and Save The Expense Report:\")\n",
    "    print(\"0. Exit\")\n",
    "    option = int(input(\"choose an aption:\\n\"))\n",
    "\n",
    "    print()\n",
    "    #check for the users choice or option or input \n",
    "    if option == 0:\n",
    "        print(\"Exiting the program\")\n",
    "        break\n",
    "    elif option == 1:\n",
    "        print(\"Adding Food\")\n",
    "        expense_type = \"FOOD\"\n",
    "    elif option == 2:\n",
    "        print(\"Adding Household\")\n",
    "        expense_type = \"HOUSEHOLD\"\n",
    "    elif option == 3:\n",
    "        print(\"Adding Transportation\")\n",
    "        expense_type = \"Transportation\"\n",
    "    elif option == 4:\n",
    "        print(\"Adding Self-Care\")\n",
    "        expense_type = \"SELF-CARE\"\n",
    "    elif option == 5:\n",
    "        print(\"Adding Emergency\")\n",
    "        expense_type = \"EMERGENCY\"\n",
    "    elif option == 6:\n",
    "        #create a data frame and add the expenses\n",
    "        expense_report = pd.DataFrame()\n",
    "        expense_report[\"GOOD_OR_SERVICES\"] = GOOD_OR_SERVICES \n",
    "        expense_report[\"PRICES\"] = PRICES \n",
    "        expense_report[\"DATES\"] = DATES \n",
    "        expense_report[\"EXPENSE_TYPES\"] = EXPENSE_TYPES\n",
    "        \n",
    "        #SAVE THE EXPENSE REPORT \n",
    "        expense_report.to_csv(\"expense.csv\")\n",
    "        #show the expense report \n",
    "        print(expense_report)\n",
    "    else:\n",
    "        print(\"You choose an incorect option. Please choose 0,1,2,3,4,5 or 6\")\n",
    "\n",
    "    #allow the user to enter the good or service and the price \n",
    "    if option == 1 or option == 2 or option == 3 or option == 4 or option == 5:\n",
    "        good_or_service = input(\"enter the good or service for the expense type \" +expense_type +\" :\\n\")\n",
    "        price = float(input(\"enter the price of the good or service:\\n\"))\n",
    "        today = date.today()\n",
    "        add_expense(good_or_service, price, today, expense_type)\n",
    "\n",
    "    print()"
   ]
  },
  {
   "cell_type": "code",
   "execution_count": null,
   "id": "d2bcd32e-4f95-4f83-be03-b869bfbc359f",
   "metadata": {},
   "outputs": [],
   "source": []
  }
 ],
 "metadata": {
  "kernelspec": {
   "display_name": "Python 3 (ipykernel)",
   "language": "python",
   "name": "python3"
  },
  "language_info": {
   "codemirror_mode": {
    "name": "ipython",
    "version": 3
   },
   "file_extension": ".py",
   "mimetype": "text/x-python",
   "name": "python",
   "nbconvert_exporter": "python",
   "pygments_lexer": "ipython3",
   "version": "3.11.5"
  }
 },
 "nbformat": 4,
 "nbformat_minor": 5
}
