{
 "cells": [
  {
   "cell_type": "code",
   "execution_count": 40,
   "id": "c2a1b51d-eea7-47d0-a8f1-7a2174121c94",
   "metadata": {},
   "outputs": [
    {
     "name": "stdin",
     "output_type": "stream",
     "text": [
      "Input n:  5\n"
     ]
    },
    {
     "name": "stdout",
     "output_type": "stream",
     "text": [
      "The fibonacci sequence of 5 is: [0, 1, 1, 2, 3]\n"
     ]
    }
   ],
   "source": [
    "def fibonacci_generator(n):\n",
    "    fib_sequence = [0, 1]  \n",
    "    for i in range(n):\n",
    "        next_fib = fib_sequence[-1] + fib_sequence[-2]  \n",
    "        fib_sequence.append(next_fib)\n",
    "    return fib_sequence[:n]  \n",
    "\n",
    "n = int(input(\"Input n: \"))\n",
    "fib_series = fibonacci_generator(n)\n",
    "print(\"The fibonacci sequence of\", n, \"is:\", fib_series)"
   ]
  }
 ],
 "metadata": {
  "kernelspec": {
   "display_name": "Python 3 (ipykernel)",
   "language": "python",
   "name": "python3"
  },
  "language_info": {
   "codemirror_mode": {
    "name": "ipython",
    "version": 3
   },
   "file_extension": ".py",
   "mimetype": "text/x-python",
   "name": "python",
   "nbconvert_exporter": "python",
   "pygments_lexer": "ipython3",
   "version": "3.11.5"
  }
 },
 "nbformat": 4,
 "nbformat_minor": 5
}
